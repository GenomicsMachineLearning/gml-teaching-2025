{
 "cells": [
  {
   "cell_type": "markdown",
   "id": "26fc5da5-9af3-4261-98bd-a5f26a03ab58",
   "metadata": {},
   "source": [
    "![GML Logo](../images/logo.png)\n",
    "\n",
    "# Tissue Segmentation with Voyager\n",
    "\n",
    "Contact: Andrew Newman (andrew.newman@uq.edu.au)\n",
    "\n",
    "The Visium spatial transcriptomics platform by 10X Genomics, based on the Spatial Transcriptomics (ST) technology published in 2016, captures mRNA from tissue sections on spatially barcoded spots immobilized on a microarray slide. After constructing a barcoded cDNA library, mRNA transcripts are mapped to specific spots on the slide and overlaid with a high-resolution tissue image, enabling visualization and analysis of gene expression in a spatial context.\n",
    "\n",
    "Visium provides:\n",
    "* 55 𝜇m spot diameter and 100 𝜇m center to center,\n",
    "* 1-10% of the total mRNA molecules present in a given spot,\n",
    "* A protocol has been adapted for long read sequencing and\n",
    "* Compatibility with fresh frozen or FFPE tissue samples.\n",
    "\n",
    "More reading:\n",
    "* [An introduction to spatial transcriptomics for biomedical research](https://genomemedicine.biomedcentral.com/articles/10.1186/s13073-022-01075-1)\n",
    "* [Museum of spatial transcriptomics](https://www.nature.com/articles/s41592-022-01409-2)"
   ]
  },
  {
   "cell_type": "markdown",
   "id": "bf10cdf3-74f0-459d-ab8d-71c2ed858e81",
   "metadata": {},
   "source": [
    "# Setup\n",
    "\n",
    "* Adds the libraries,\n",
    "* Sets up functions to render graphics in the notebook and\n",
    "* Adds the paths for reading in the data."
   ]
  },
  {
   "cell_type": "code",
   "execution_count": null,
   "id": "85728bb3-b77b-4708-ad66-99e84c0050fc",
   "metadata": {},
   "outputs": [],
   "source": [
    "library(dplyr)\n",
    "library(Voyager)\n",
    "library(SpatialExperiment)\n",
    "library(SpatialFeatureExperiment)\n",
    "library(SingleCellExperiment)\n",
    "library(ggplot2)\n",
    "library(scater)\n",
    "library(rlang)\n",
    "library(scran)\n",
    "library(scuttle)\n",
    "library(terra)\n",
    "library(sf)\n",
    "library(rmapshaper)\n",
    "library(scran)\n",
    "library(stringr)\n",
    "library(EBImage)\n",
    "library(patchwork)\n",
    "library(bluster)\n",
    "library(rjson)\n",
    "theme_set(theme_bw())"
   ]
  },
  {
   "cell_type": "code",
   "execution_count": null,
   "id": "48471739-9a08-403d-a244-39e32d05d311",
   "metadata": {},
   "outputs": [],
   "source": [
    "# Layout\n",
    "custom_theme <- function() {\n",
    "  theme_bw() +\n",
    "    theme(\n",
    "      legend.text = element_text(size = 14),\n",
    "      legend.title = element_text(size = 16, face = \"bold\"),\n",
    "      axis.text = element_text(size = 12),\n",
    "      axis.title = element_text(size = 14, face = \"bold\"),\n",
    "      legend.position = \"right\",\n",
    "      legend.box.just = \"right\"\n",
    "    )\n",
    "}\n",
    "options(repr.plot.width = 10, repr.plot.height = 8)"
   ]
  },
  {
   "cell_type": "code",
   "execution_count": null,
   "id": "9b4c5a34-bf13-4827-83e7-54228e9cce75",
   "metadata": {},
   "outputs": [],
   "source": [
    "data_dir <- R.utils::getAbsolutePath('../data')\n",
    "mouse_dir <- glue::glue(\"{data_dir}/Visium_Mouse_Olfactory_Bulb/outs\")"
   ]
  },
  {
   "cell_type": "markdown",
   "id": "9450d149-6cfd-417c-846b-c873c10762c6",
   "metadata": {},
   "source": [
    "## Visium Files Overview\n",
    "\n",
    "This is a brief introduction to the raw Visium output data that is produced from an experiment.\n",
    "\n",
    "### Count Data\n",
    "\n",
    "The [count matrix directory](https://www.10xgenomics.com/support/software/space-ranger/latest/analysis/space-ranger-feature-barcode-matrices) can be **filtered_feature_bc_matrix** and **raw_feature_bc_matrix**, which contain:\n",
    "* a count matrix,\n",
    "* feature or gene matrix, and\n",
    "* barcode (cell/spot) information.\n",
    "\n",
    "Run the code to display the top 6 values of the matrix file:"
   ]
  },
  {
   "cell_type": "code",
   "execution_count": null,
   "id": "4133e405-cf67-43bb-bbf8-95ceddf4a0ee",
   "metadata": {},
   "outputs": [],
   "source": [
    "head(read.csv(glue::glue(\"{mouse_dir}/raw_feature_bc_matrix/matrix.mtx.gz\")))"
   ]
  },
  {
   "cell_type": "markdown",
   "id": "456e4dd6-f29e-463b-9c5f-c35d1451f840",
   "metadata": {},
   "source": [
    "This shows that that matrix was produced using Space Range version 2. The next line indicates:\n",
    "* 32285 columns (genes),\n",
    "* 4992 rows (spots),\n",
    "* 6382095 non-zero cells in the matrix.\n",
    "\n",
    "Subsequent lines are the data - gene in index 1393 has a count of 1 in spot 1.\n",
    "\n",
    "Next, run the following code to display the features file:"
   ]
  },
  {
   "cell_type": "code",
   "execution_count": null,
   "id": "6e14abe4-f952-4231-b91f-6c68261812e3",
   "metadata": {},
   "outputs": [],
   "source": [
    "head(read.csv(glue::glue(\"{mouse_dir}/raw_feature_bc_matrix/features.tsv.gz\")))"
   ]
  },
  {
   "cell_type": "markdown",
   "id": "8bcb4531-6d8e-4893-979a-0c5b8a9c2b45",
   "metadata": {},
   "source": [
    "This shows for each row, the ensemble ID for the gene \"Gm1992\" and it represents a gene expression value.\n",
    "\n",
    "Next, run the following code to display the barcodes file:"
   ]
  },
  {
   "cell_type": "code",
   "execution_count": null,
   "id": "d13487ce-dee6-41d1-a5b9-c180504f4cb5",
   "metadata": {},
   "outputs": [],
   "source": [
    "head(read.csv(glue::glue(\"{mouse_dir}/raw_feature_bc_matrix/barcodes.tsv.gz\")))"
   ]
  },
  {
   "cell_type": "markdown",
   "id": "5035e9ec-3cbe-481a-8779-0794a9e86436",
   "metadata": {},
   "source": [
    "This gives the column IDs (spots) for each row in matrix.\n",
    "\n",
    "### Spatial Metadata\n",
    "\n",
    "The scalefactors_json.json file contains image metadata:\n",
    "* **tissue_hires_scalef** and **tissue_lowres_scalef** are the ratio of the size of the high resolution (but not full resolution) and low resolution H&E image to the full resolution image.\n",
    "* **fiducial_diameter_fullres** is the diameter of each fiducial spot used to align the spots to the H&E image in pixels in the full resolution image.\n",
    "* **spot_diameter_fullres** is the diameter of each Visium spot in the full resolution H&E image in pixels. "
   ]
  },
  {
   "cell_type": "code",
   "execution_count": null,
   "id": "0d53b1b3-724d-42bb-b1cb-7b8f16d14ffd",
   "metadata": {},
   "outputs": [],
   "source": [
    "scale_factors <- fromJSON(file = glue::glue(\"{mouse_dir}/spatial/scalefactors_json.json\"))\n",
    "str(scale_factors)"
   ]
  },
  {
   "cell_type": "markdown",
   "id": "3c303462-77e9-451d-a141-de7f95d454d3",
   "metadata": {},
   "source": [
    "### Tissue Metadata\n",
    "\n",
    "The tissue_positions_list.csv file contains information about each spot/barcode:\n",
    "* **in_tissue** indicates whether each spot is in tissue (in_tissue, 1 means yes and 0 means no) as automatically detected by \n",
    "Space Ranger or manually annotated in the Loupe browser.\n",
    "* **array_row** and **array_col** are the coordinates on the matrix of spots,\n",
    "* **pxl_row_in_fullres** and **pxl_col_in_fullres** are the coordinates of the spots in the full resolution \n",
    "image."
   ]
  },
  {
   "cell_type": "code",
   "execution_count": null,
   "id": "1be78611-04cc-4e8a-8397-a533dce348cd",
   "metadata": {},
   "outputs": [],
   "source": [
    "head(read.csv(glue::glue(\"{mouse_dir}/spatial/tissue_positions.csv\")))"
   ]
  },
  {
   "cell_type": "markdown",
   "id": "08f10a42-0b7f-4b89-a75b-1deca18d38b3",
   "metadata": {},
   "source": [
    "## Read Visium Data"
   ]
  },
  {
   "cell_type": "code",
   "execution_count": null,
   "id": "53093fcf-70dd-45ba-a7cc-c8ccf8e59bff",
   "metadata": {},
   "outputs": [],
   "source": [
    "raw_sfe <- SpatialFeatureExperiment::read10xVisiumSFE(dirs = mouse_dir, samples = \".\", type = \"sparse\", data = \"raw\")"
   ]
  },
  {
   "cell_type": "markdown",
   "id": "979cabb8-356e-48c1-b7fa-7c55a3673ebf",
   "metadata": {},
   "source": [
    "## Read Hi-res Image"
   ]
  },
  {
   "cell_type": "code",
   "execution_count": null,
   "id": "ad9b6f2e-d4be-4029-a572-8115b3e36a47",
   "metadata": {},
   "outputs": [],
   "source": [
    "img <- readImage(glue::glue(\"{mouse_dir}/spatial/tissue_hires_image.png\"))\n",
    "EBImage::display(img)"
   ]
  },
  {
   "cell_type": "markdown",
   "source": [
    "<img src=\"images/mouse_bulb_hires.png\" height=\"240\">"
   ],
   "metadata": {
    "collapsed": false
   },
   "id": "6912e7978c74c43f"
  },
  {
   "cell_type": "markdown",
   "id": "721caa98-e35f-43f9-a566-87d9248130fe",
   "metadata": {},
   "source": [
    "The following shows the separated RGB values of the H&E image."
   ]
  },
  {
   "cell_type": "code",
   "execution_count": null,
   "id": "73b68311-67bd-4ff0-b803-120845107b69",
   "metadata": {},
   "outputs": [],
   "source": [
    "img2 <- img\n",
    "EBImage::colorMode(img2) <- EBImage::Grayscale\n",
    "EBImage::display(img2, all = TRUE)\n",
    "(EBImage::hist(img) + custom_theme())"
   ]
  },
  {
   "cell_type": "markdown",
   "id": "19461b67-8b3e-47e5-a75e-6f0fb3b6e9f4",
   "metadata": {},
   "source": [
    "<img src=\"images/mouse_bulb_rgb.png\">"
   ]
  },
  {
   "cell_type": "markdown",
   "id": "1b5e8b2a-246e-464a-a18e-34d76fa96429",
   "metadata": {},
   "source": [
    "<img src=\"images/mouse_bulb_histogram.png\">"
   ]
  },
  {
   "cell_type": "markdown",
   "id": "44d9adff-e4e0-4311-a90a-07831318116a",
   "metadata": {},
   "source": [
    "Next, we use [EBImage](https://www.bioconductor.org/packages/devel/bioc/vignettes/EBImage/inst/doc/EBImage-introduction.html) to create a mask. The blue channel is used with a threshold value (87%) to select the mask. We then perform opening (erosion followed by dilation) and closing operations (dilation followed by erosion) to create a mask using a circular kernel. During erosion, the brush slides over the image, and a pixel is set to the background value if any part of the brush overlaps with a background pixel. During dilation, the brush slides over the image, and a pixel is set to the foreground value if any part of the brush overlaps with a foreground pixel. This cleans up some artefacts and creates a smooth boundary."
   ]
  },
  {
   "cell_type": "code",
   "execution_count": null,
   "id": "d4062437-808a-4010-bbae-31c1fa285331",
   "metadata": {},
   "outputs": [],
   "source": [
    "mask <- img2[,,3] < 0.87\n",
    "kern <- EBImage::makeBrush(3, shape='disc')\n",
    "mask_open <- EBImage::opening(mask, kern)\n",
    "mask_close <- EBImage::closing(mask_open, kern)\n",
    "EBImage::display(mask_open)"
   ]
  },
  {
   "cell_type": "markdown",
   "id": "e10f575d-c469-4403-a87a-f783f8b9bbf3",
   "metadata": {},
   "source": [
    "<img src=\"images/mouse_bulb_mask_1.png\">"
   ]
  },
  {
   "cell_type": "markdown",
   "id": "fd891930-73f9-4bd1-934d-77c1e4079702",
   "metadata": {},
   "source": [
    "Next, we further process the mask, using EBImage's bwlabel command, finding every connected set of pixels other than the backgrounds, then connects the components, computes shape features for each labeled object, removes objects based on their area (objects with area less than 100 pixels and the object with label 797), and fills any holes in the remaining objects."
   ]
  },
  {
   "cell_type": "code",
   "execution_count": null,
   "id": "de31a02c-96eb-4486-8a8a-4050d3e5f6b4",
   "metadata": {},
   "outputs": [],
   "source": [
    "mask_label <- EBImage::bwlabel(mask_close)\n",
    "fts <- EBImage::computeFeatures.shape(mask_label)\n",
    "max_ind <- terra::which.max(fts[,\"s.area\"])\n",
    "inds <- which(as.array(mask_label) == max_ind, arr.ind = TRUE)\n",
    "row_inds <- c(seq_len(min(inds[,1])-1), seq(max(inds[,1])+1, nrow(mask_label), by = 1))\n",
    "col_inds <- c(seq_len(min(inds[,2])-1), seq(max(inds[,2])+1, nrow(mask_label), by = 1))\n",
    "# mask_label[row_inds, ] <- 0\n",
    "# mask_label[,col_inds] <- 0\n",
    "fts2 <- fts[unique(as.vector(mask_label))[-1],]\n",
    "fts2 <- fts2[order(fts2[,\"s.area\"], decreasing = TRUE),]"
   ]
  },
  {
   "cell_type": "code",
   "execution_count": null,
   "id": "6f6c48f5c20500bf",
   "metadata": {
    "collapsed": false
   },
   "outputs": [],
   "source": [
    "polygon_ids_to_remove <- c(174, 561, 546, 484, 150, 74, 622, 551, 121, 47, 450, 849, 797, 461, 840, 862, 839, 775)\n",
    "polygon_area <- 100\n",
    "polygon_by_area_to_remove <- as.numeric(rownames(fts2)[fts2[,1] < polygon_area])"
   ]
  },
  {
   "cell_type": "code",
   "execution_count": null,
   "id": "ee4465a1-45d2-4d1c-af25-3438bd1ea578",
   "metadata": {},
   "outputs": [],
   "source": [
    "mask_label[mask_label %in% c(polygon_ids_to_remove, polygon_by_area_to_remove)] <- 0\n",
    "mask_label <- EBImage::fillHull(mask_label)\n",
    "EBImage::display(mask_label)"
   ]
  },
  {
   "cell_type": "markdown",
   "id": "13e56e4e-9128-4866-a0b9-c9fc37cc4e04",
   "metadata": {
    "ExecuteTime": {
     "end_time": "2024-06-05T04:50:25.710598Z",
     "start_time": "2024-06-05T04:50:25.371025Z"
    }
   },
   "source": [
    "<img src=\"images/mouse_bulb_mask_2.png\">"
   ]
  },
  {
   "cell_type": "markdown",
   "id": "ff5e1955-924e-4c2b-bc7b-dd09a9105c2f",
   "metadata": {},
   "source": [
    "Next, we can visualise the areas of each object, to determine if the processing is adequate. Ideally, we want few objects with the most area."
   ]
  },
  {
   "cell_type": "code",
   "execution_count": null,
   "id": "2229cc97-37ed-48a6-aacd-f63eef0c1e3f",
   "metadata": {},
   "outputs": [],
   "source": [
    "plot(fts2[,1][-1], type = \"l\", ylab = \"Area\")"
   ]
  },
  {
   "cell_type": "markdown",
   "id": "4de56415-374a-4105-8fd9-facb24acb4c4",
   "metadata": {
    "ExecuteTime": {
     "end_time": "2024-06-05T04:49:40.279564Z",
     "start_time": "2024-06-05T04:49:40.233818Z"
    }
   },
   "source": [
    "<img src=\"images/mouse_bulb_mask_stats.png\">"
   ]
  },
  {
   "cell_type": "code",
   "execution_count": null,
   "id": "e8551aeb-682e-497d-b1ad-3e4dd7400b44",
   "metadata": {},
   "outputs": [],
   "source": [
    "head(fts2, 20)"
   ]
  },
  {
   "cell_type": "markdown",
   "id": "60b77dd2-cb90-40ae-a733-7a6b14c7395d",
   "metadata": {},
   "source": [
    "We can now visualise the final output."
   ]
  },
  {
   "cell_type": "code",
   "execution_count": null,
   "id": "798f2598-4f37-4112-b0d1-9e804a8f6476",
   "metadata": {},
   "outputs": [],
   "source": [
    "display(paintObjects(mask_label, img, col=c(\"red\", \"yellow\"), opac=c(1, 0.3)))"
   ]
  },
  {
   "cell_type": "markdown",
   "id": "f370ce06-742e-4354-b81d-84a4026a6365",
   "metadata": {},
   "source": [
    "<img src=\"images/mouse_bulb_mask_3.png\">"
   ]
  },
  {
   "cell_type": "code",
   "execution_count": null,
   "id": "ef334540-a15a-42b3-8a54-f80be76eae76",
   "metadata": {},
   "outputs": [],
   "source": [
    "raster2polygon <- function(seg, keep = 0.2) {\n",
    "    seg <- flip(seg)\n",
    "    r <- terra::rast(as.array(seg), extent = ext(0, nrow(seg), 0, ncol(seg))) |> trans()\n",
    "    r[r < 1] <- NA\n",
    "    contours <- st_as_sf(as.polygons(r, dissolve = TRUE))\n",
    "    simplified <- ms_simplify(contours, keep = keep)\n",
    "    return(list(full = contours, simplified = simplified))\n",
    "}"
   ]
  },
  {
   "cell_type": "code",
   "execution_count": null,
   "id": "4bf6bcde-fd4a-42b3-9bf1-949f0dcb5fc2",
   "metadata": {},
   "outputs": [],
   "source": [
    "tb <- raster2polygon(mask_label)\n",
    "print(head(tb$full,5))\n",
    "print(head(tb$simplified,5))"
   ]
  },
  {
   "cell_type": "markdown",
   "id": "a13645d8-9f58-4e25-b9fa-4dae0d40470f",
   "metadata": {},
   "source": [
    "We can now visualise a sample of the tissue boundary against the H&E image."
   ]
  },
  {
   "cell_type": "code",
   "execution_count": null,
   "id": "e0f92097-9468-4ab3-b773-bf10409d1483",
   "metadata": {},
   "outputs": [],
   "source": [
    "scale_factors <- fromJSON(file = glue::glue(\"{mouse_dir}/spatial/scalefactors_json.json\"))\n",
    "tb[[\"simplified\"]][[\"geometry\"]] <- tb[[\"simplified\"]][[\"geometry\"]] / scale_factors[[\"tissue_hires_scalef\"]]\n",
    "is_mt <- str_detect(rowData(raw_sfe)$symbol, \"^mt-\")\n",
    "segmented_sfe <- scuttle::addPerCellQCMetrics(raw_sfe, subsets = list(mito = is_mt))\n",
    "colData(segmented_sfe)[[\"nCounts\"]] <- colSums(counts(segmented_sfe))\n",
    "SpatialFeatureExperiment::tissueBoundary(segmented_sfe) <- tb[[\"simplified\"]]\n",
    "Voyager::plotSpatialFeature(segmented_sfe, \"sum\", annotGeometryName = \"tissueBoundary\", \n",
    "                   annot_fixed = list(fill = NA, color = \"black\"),\n",
    "                   image_id = \"lowres\") + custom_theme()"
   ]
  },
  {
   "cell_type": "markdown",
   "id": "e14f8b6f-735a-4f20-90cc-8a9c664c8ed5",
   "metadata": {},
   "source": [
    "<img src=\"images/mouse_bulb_mask_4.png\">"
   ]
  },
  {
   "cell_type": "markdown",
   "id": "8030a6af-1013-4909-9844-14e0040d3f72",
   "metadata": {},
   "source": [
    "The fiducials indicate that the image needs to be rotated (so the pyramid is in the bottom left)."
   ]
  },
  {
   "cell_type": "code",
   "execution_count": null,
   "id": "dd912ef4-8c83-4912-bf00-e7d637c15fc2",
   "metadata": {},
   "outputs": [],
   "source": [
    "segmented_sfe <- SpatialFeatureExperiment::transpose(segmented_sfe)\n",
    "Voyager::plotSpatialFeature(segmented_sfe, \"sum\", annotGeometryName = \"tissueBoundary\", \n",
    "                   annot_fixed = list(fill = NA, color = \"black\"),\n",
    "                   image_id = \"lowres\")"
   ]
  },
  {
   "cell_type": "markdown",
   "id": "233ec2e5-6787-4362-be87-e1d733a9c2b9",
   "metadata": {},
   "source": [
    "<img src=\"images/mouse_bulb_mask_5.png\">"
   ]
  },
  {
   "cell_type": "markdown",
   "id": "8e7856c1-20dd-42bd-bdec-bb70fc63aec6",
   "metadata": {},
   "source": [
    "We can now assing the tissue boundary covering the image or intesects. To compare the Space Ranger \"in tissue\" annotation with our new tissue mask."
   ]
  },
  {
   "cell_type": "code",
   "execution_count": null,
   "id": "fd583865-8f0a-465a-95cf-14b27e874549",
   "metadata": {},
   "outputs": [],
   "source": [
    "segmented_sfe$int_tissue <- SpatialFeatureExperiment::annotPred(segmented_sfe, colGeometryName = \"spotPoly\", \n",
    "                            annotGeometryName = \"tissueBoundary\",\n",
    "                            pred = st_intersects)\n",
    "segmented_sfe$cov_tissue <- SpatialFeatureExperiment::annotPred(segmented_sfe, colGeometryName = \"spotPoly\", \n",
    "                            annotGeometryName = \"tissueBoundary\",\n",
    "                            pred = st_covered_by)\n",
    "segmented_sfe$diff_sr <- \n",
    "    dplyr::case_when(\n",
    "        segmented_sfe[['in_tissue']] == segmented_sfe[['int_tissue']] ~ \"same\",\n",
    "        segmented_sfe[['in_tissue']] & !segmented_sfe[['int_tissue']] ~ \"Space Ranger\",\n",
    "        segmented_sfe[['int_tissue']] & !segmented_sfe[['in_tissue']] ~ \"segmentation\"\n",
    "    ) |> \n",
    "    factor(levels = c(\"Space Ranger\", \"same\", \"segmentation\"))\n",
    "Voyager::plotSpatialFeature(\n",
    "    segmented_sfe, \"diff_sr\", \n",
    "    annotGeometryName = \"tissueBoundary\", \n",
    "    annot_fixed = list(fill = NA, size = 0.5, color = \"black\")) +\n",
    "    scale_fill_brewer(type = \"div\", palette = 4) + custom_theme()"
   ]
  },
  {
   "cell_type": "markdown",
   "id": "b66bcffb-2426-47da-a3ff-bf9c51aaf53f",
   "metadata": {},
   "source": [
    "<img src=\"images/mouse_bulb_space_ranger_comparison.png\">"
   ]
  },
  {
   "cell_type": "markdown",
   "id": "cdf55e45-5417-4ad9-bbba-d4e6034c1393",
   "metadata": {},
   "source": [
    "Finally, we save the output as an RDS to be used in the \"voyager\" tutorial."
   ]
  },
  {
   "cell_type": "code",
   "execution_count": null,
   "id": "0a79c60d-8fbe-4337-8752-715b0cc3fd62",
   "metadata": {},
   "outputs": [],
   "source": [
    "# Uncomment this out to write out a new output for processing.\n",
    "# data_dir <- R.utils::getAbsolutePath('../data')\n",
    "# saveRDS(segmented_sfe, glue::glue(\"{data_dir}/Visium_Mouse_Olfactory_Bulb.rds\"))"
   ]
  },
  {
   "cell_type": "markdown",
   "id": "2447de09-2ddd-4b5d-b782-347a4b5751fe",
   "metadata": {},
   "source": [
    "# More Information\n",
    "\n",
    "The homepage for the Voyager R project is https://pachterlab.github.io/voyager/index.html\n",
    "\n",
    "Introduction to Visium Technology:\n",
    "* https://pachterlab.github.io/voyager/articles/visium_landing.html\n",
    "\n",
    "This tutorial was based on the following:\n",
    "* https://pachterlab.github.io/voyager/articles/visium_10x.html\n",
    "* https://pachterlab.github.io/voyager/articles/vig1_visium_basic.html\n",
    "* https://pachterlab.github.io/voyager/articles/vig2_visium.html\n",
    "* https://pachterlab.github.io/voyager/articles/visium_10x_spatial.html\n",
    "* https://pachterlab.github.io/voyager/articles/multispati.html"
   ]
  }
 ],
 "metadata": {
  "kernelspec": {
   "display_name": "R",
   "language": "R",
   "name": "ir"
  },
  "language_info": {
   "codemirror_mode": "r",
   "file_extension": ".r",
   "mimetype": "text/x-r-source",
   "name": "R",
   "pygments_lexer": "r",
   "version": "4.3.3"
  }
 },
 "nbformat": 4,
 "nbformat_minor": 5
}
