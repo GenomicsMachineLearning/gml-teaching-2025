{
 "cells": [
  {
   "cell_type": "markdown",
   "id": "d158477d-75e0-497a-aead-01eb69f2647f",
   "metadata": {},
   "source": [
    "![GML Logo](../images/logo.png)\n",
    "\n",
    "# Spatial Statistics with Voyager\n",
    "\n",
    "Contact: Andrew Newman (andrew.newman@uq.edu.au)\n",
    "\n",
    "The purpose of this tutorial is to introduce the Voyager package for exploratory spatial data analysis and \n",
    "visualization for spatial genomics data represented by SpatialFeatureExperiment objects.\n",
    "\n",
    "\n",
    "To get started, copy and paste the following code into your R terminal session:"
   ]
  },
  {
   "cell_type": "code",
   "execution_count": null,
   "id": "85728bb3-b77b-4708-ad66-99e84c0050fc",
   "metadata": {
    "vscode": {
     "languageId": "r"
    }
   },
   "outputs": [],
   "source": [
    "source(\"./startup.R\")\n",
    "show_plot(Voyager::plotImage(raw_sfe))"
   ]
  },
  {
   "cell_type": "markdown",
   "id": "dfda04fe-5bfa-4cea-b720-4897d6a3b376",
   "metadata": {},
   "source": [
    "## Overview of Spatial Feature Experiment\n",
    "\n",
    "<img src=\"images/spatial-feature.png\">\n",
    "\n",
    "A [Spatial Feature Experiment](https://bioconductor.org/packages/release/bioc/vignettes/SpatialFeatureExperiment/inst/doc/SFE.html) is a data structure built on top of [SpatialExperiment](https://www.bioconductor.org/packages/release/bioc/vignettes/SpatialExperiment/inst/doc/SpatialExperiment.html), which itself is based on the [SingleCellExperiment](https://bioconductor.org/packages/release/bioc/vignettes/SingleCellExperiment/inst/doc/intro.html).\n",
    "\n",
    "[SingleCellExperiment](https://bioconductor.org/packages/release/bioc/vignettes/SingleCellExperiment/inst/doc/intro.html) is designed for querying and storage of single cell data. It includes:\n",
    "* Tables of measurement values (assays) such as raw and transformed transcript counts, with rows corresponding to features/genes and columns to observations (spots/cells),\n",
    "* rowData to store gene IDs and names,\n",
    "* colData to store observation metadata such as barcode/cell IDs, and\n",
    "* reducedDims to store reduced dimension representations of the measurements.\n",
    "\n",
    "A [SpatialExperiment](https://www.bioconductor.org/packages/release/bioc/vignettes/SpatialExperiment/inst/doc/SpatialExperiment.html) is a data structure for storing and accessing spatial transcriptomic data. It's features include::\n",
    "* Spatial coordinates (spatialCoords) associated with each observation and\n",
    "* Storing image files and related information (imgData) such as histology images and resolution.\n",
    "\n",
    "[Spatial Feature Experiment](https://bioconductor.org/packages/release/bioc/vignettes/SpatialFeatureExperiment/inst/doc/SFE.html) incorporates geometries and geometry operations with the [sf](https://r-spatial.github.io/sf/) package. By using [sf](https://r-spatial.github.io/sf/), [Spatial Feature Experiment](https://bioconductor.org/packages/release/bioc/vignettes/SpatialFeatureExperiment/inst/doc/SFE.html) allows for efficient geometry operations such as intersection, buffering, aggregating polygons, find all points within a polygon, etc. It also adds additional features for:\n",
    "* colGeometries and rowGeometries for storing geometries related to spots/cells (columns) and genes and their counts (rows),\n",
    "* colGraph and rowGraph for storing graphs (nodes and edges) related to spots/cells and counts, and\n",
    "* annotGeometries and annotGraphs for storing additional geometries and graphs such as tissue boundaries and its associated neighbourhood graph."
   ]
  },
  {
   "cell_type": "markdown",
   "id": "fcfa2b0c-ec69-4a45-ba21-0d6bac0f6d0b",
   "metadata": {},
   "source": [
    "# Perform QC\n",
    "\n",
    "One of the available pieces of information from a Visium output is whether a spot is considered inside a tissue or not (a value of 1 or 0 in the \"in_tissue\") column.\n",
    "\n",
    "We can plot the \"sum\" of the expression counts, the number of genes \"detected\" in a spot and the percentage of mitochondrial genes (a sum of a collection of genes).\n",
    "\n",
    "We can observe the distribution of these through violin plots both in tissue and out tissue."
   ]
  },
  {
   "cell_type": "code",
   "execution_count": null,
   "id": "578e6231-20e4-4fb3-9302-6970c64f734e",
   "metadata": {
    "vscode": {
     "languageId": "r"
    }
   },
   "outputs": [],
   "source": [
    "p1 <- scater::plotColData(transposed_raw_sfe, \"sum\", x = \"in_tissue\", color_by = \"in_tissue\") + custom_theme()\n",
    "p2 <- scater::plotColData(transposed_raw_sfe, \"detected\", x = \"in_tissue\", color_by = \"in_tissue\") + custom_theme()\n",
    "p3 <- scater::plotColData(transposed_raw_sfe, \"subsets_mito_percent\", x = \"in_tissue\", color_by = \"in_tissue\") + custom_theme()\n",
    "p4 <- scater::plotColData(transposed_raw_sfe, x = \"sum\", y = \"subsets_mito_percent\", bins = 100) + custom_theme()\n",
    "plot <- (p1 + p2 + p3 + p4) + patchwork::plot_layout(ncol = 3, guides = \"collect\")\n",
    "show_plot(plot)"
   ]
  },
  {
   "cell_type": "markdown",
   "id": "22f66cde6ce53db4",
   "metadata": {
    "collapsed": false
   },
   "source": [
    "![Violin Plot 1](images/violin_1.png)"
   ]
  },
  {
   "cell_type": "markdown",
   "id": "07dcdfa9-89f7-4afb-9a4b-fc89cd22b270",
   "metadata": {},
   "source": [
    "We can see here that the number of gene expression counts is low outside the tissue, which is what you should expect. However, the number of genes detected out of tissue is slightly higher, with the sum of counts for mitochondiral genes being between 10% and 20%.\n",
    "\n",
    "We can observe the effect on the data distribution of the genes and their counts by filtering out those spots whose mitochdondrial percentage is below 20%.\n",
    "\n",
    "To plot this execute the following code (the actual filtering has been performed):"
   ]
  },
  {
   "cell_type": "code",
   "execution_count": null,
   "id": "aa308ef0-0309-4fcc-86fa-2f210d8ba4fb",
   "metadata": {
    "vscode": {
     "languageId": "r"
    }
   },
   "outputs": [],
   "source": [
    "p1 <- scater::plotColData(processed_sfe, \"sum\", x = \"in_tissue\", color_by = \"in_tissue\") + custom_theme()\n",
    "p2 <- scater::plotColData(processed_sfe, \"detected\", x = \"in_tissue\", color_by = \"in_tissue\") + custom_theme()\n",
    "p3 <- scater::plotColData(processed_sfe, \"subsets_mito_percent\", x = \"in_tissue\", color_by = \"in_tissue\") + custom_theme()\n",
    "p4 <- scater::plotColData(processed_sfe, x = \"sum\", y = \"subsets_mito_percent\", bins = 100) + custom_theme()\n",
    "plot <- (p1 + p2 + p3 + p4) + patchwork::plot_layout(ncol = 3, guides = \"collect\")\n",
    "show_plot(plot)"
   ]
  },
  {
   "cell_type": "markdown",
   "id": "6fda2d26d6e7745b",
   "metadata": {
    "collapsed": false
   },
   "source": [
    "![Violin Plot 2](images/violin_2.png)"
   ]
  },
  {
   "cell_type": "markdown",
   "id": "fb2647d9-7db1-4ef9-b76a-42f26e8cc690",
   "metadata": {},
   "source": [
    "<img style=\"float: left; margin-right:20px; margin-bottom:0px;\" src=\"images/code_icon.png\">\n",
    "\n",
    "The original data (unfiltered/raw) is stored in transposed_raw_sfe and the mitochondiral subset data in a dataframe called qc_sfe$subsets_mito_percent. \n",
    "\n",
    "Based on your observation of the data what percentage should you set your filter at? 30%, 10%, 5% or something else?\n",
    "\n",
    "Here is some sample code, please modify it to subset data that percentage of mitochondrial DNA content:\n",
    "\n",
    "```R\n",
    "processed_30_percent <- transposed_raw_sfe[, qc_sfe$subsets_mito_percent < your_precentage_goes_here]\n",
    "p1 <- scater::plotColData(processed_30_percent, \"sum\", x = \"in_tissue\", color_by = \"in_tissue\") + custom_theme()\n",
    "p2 <- scater::plotColData(processed_30_percent, \"detected\", x = \"in_tissue\", color_by = \"in_tissue\") + custom_theme()\n",
    "p3 <- scater::plotColData(processed_30_percent, \"subsets_mito_percent\", x = \"in_tissue\", color_by = \"in_tissue\") + custom_theme()\n",
    "p4 <- scater::plotColData(processed_30_percent, x = \"sum\", y = \"subsets_mito_percent\", bins = 100) + custom_theme()\n",
    "plot <- (p1 + p2 + p3 + p4) + patchwork::plot_layout(ncol = 3, guides = \"collect\")\n",
    "show_plot(plot)\n",
    "```"
   ]
  },
  {
   "cell_type": "code",
   "execution_count": null,
   "id": "727d3007-4b66-48ed-ad35-5f104eaaa1be",
   "metadata": {},
   "outputs": [],
   "source": [
    "# Run the code here."
   ]
  },
  {
   "cell_type": "markdown",
   "id": "ee83a396-ac97-45e9-a175-1f438df0fae0",
   "metadata": {},
   "source": [
    "# Before and after QC by Percentage\n",
    "\n",
    "We can also plot the effect of removing the mitochondrial cells spatially as well."
   ]
  },
  {
   "cell_type": "code",
   "execution_count": null,
   "id": "1d3343c8-4495-4754-963f-eee813cd50a0",
   "metadata": {
    "vscode": {
     "languageId": "r"
    }
   },
   "outputs": [],
   "source": [
    "p1 <- Voyager::plotSpatialFeature(qc_sfe, c(\"sum\"), image_id = \"lowres\", maxcell = 5e4, ncol = 2) + custom_theme()\n",
    "p2 <- Voyager::plotSpatialFeature(qc_sfe, c(\"detected\"), image_id = \"lowres\", maxcell = 5e4, ncol = 2) + custom_theme()\n",
    "p3 <- Voyager::plotSpatialFeature(qc_sfe, c(\"subsets_mito_percent\"), image_id = \"lowres\", maxcell = 5e4, ncol = 2) + custom_theme()\n",
    "p4 <- Voyager::plotSpatialFeature(processed_sfe, c(\"sum\"), image_id = \"lowres\", maxcell = 5e4, ncol = 2) + custom_theme()\n",
    "p5 <- Voyager::plotSpatialFeature(processed_sfe, c(\"detected\"), image_id = \"lowres\", maxcell = 5e4, ncol = 2) + custom_theme()\n",
    "p6 <- Voyager::plotSpatialFeature(processed_sfe, c(\"subsets_mito_percent\"), image_id = \"lowres\", maxcell = 5e4, ncol = 2) + custom_theme()\n",
    "plot <- (p1 + p2 + p3 + p4 + p5 + p6) + patchwork::plot_layout(ncol = 3, guides = \"collect\")\n",
    "show_plot(plot, width = 1600, height = 800)"
   ]
  },
  {
   "cell_type": "markdown",
   "id": "d15f2937d10e9640",
   "metadata": {
    "collapsed": false
   },
   "source": [
    "![Spatial Comparison of Mitochondria QC](images/spatial_effect_qc.png)"
   ]
  },
  {
   "cell_type": "markdown",
   "id": "75ab86a8-83e9-44a7-aa49-e3c2f928a40e",
   "metadata": {},
   "source": [
    "# Plotting Metrics Spatially\n",
    "\n",
    "Instead of plotting a violin or scatter plot of the counts and genes, we can also view the gene expression directly on the tissue."
   ]
  },
  {
   "cell_type": "markdown",
   "id": "cfe1c205-eeee-440c-8750-c3f9f19f1298",
   "metadata": {},
   "source": [
    "## Using In Tissue Spots\n",
    "\n",
    "The following combines the violin plots of the counts per spot and number of genes and the effect that it has spatially."
   ]
  },
  {
   "cell_type": "code",
   "execution_count": null,
   "id": "34b2d002-c31c-40f0-9fc1-4e79858a075b",
   "metadata": {
    "vscode": {
     "languageId": "r"
    }
   },
   "outputs": [],
   "source": [
    "p1 <- plotColData(processed_sfe, \"nCounts\", x = \"in_tissue\", colour_by = \"in_tissue\") +\n",
    "    theme(legend.position = \"top\") + custom_theme()\n",
    "p2 <- plotSpatialFeature(processed_sfe, \"nCounts\", colGeometryName = \"spotPoly\",\n",
    "                              annotGeometryName = \"tissueBoundary\", \n",
    "                              image = \"lowres\", maxcell = 5e4,\n",
    "                              annot_fixed = list(fill = NA, color = \"black\")) + custom_theme()\n",
    "p3 <- scater::plotColData(processed_sfe, \"nGenes\", x = \"in_tissue\", colour_by = \"in_tissue\") +\n",
    "    theme(legend.position = \"top\") + custom_theme()\n",
    "p4 <- Voyager::plotSpatialFeature(processed_sfe, \"nGenes\", colGeometryName = \"spotPoly\",\n",
    "                              annotGeometryName = \"tissueBoundary\",\n",
    "                              image = \"lowres\", maxcell = 5e4,\n",
    "                              annot_fixed = list(fill = NA, color = \"black\")) + custom_theme()\n",
    "plot <- (p1 + p2 + p3 + p4) + patchwork::plot_layout(ncol = 2, guides = \"collect\")\n",
    "show_plot(plot, width = 1600, height = 800)"
   ]
  },
  {
   "cell_type": "markdown",
   "id": "bfb19137f5c1e647",
   "metadata": {
    "collapsed": false
   },
   "source": [
    "![Comparison of In Tissue and Out of Tissue Counts and Genes](images/violin_mito_comparison.png)"
   ]
  },
  {
   "cell_type": "markdown",
   "id": "4bfd8435-610e-4037-868a-cea06f795004",
   "metadata": {},
   "source": [
    "Display the number of genes and counts and where they appear in tissue. In data sets with distinct differences in tissue you can often perceive multiple arcs in the trend line indicating that different tissue sections vary. "
   ]
  },
  {
   "cell_type": "code",
   "execution_count": null,
   "id": "c9daa1c5-da65-4fd9-a39c-02920ecd34c5",
   "metadata": {
    "vscode": {
     "languageId": "r"
    }
   },
   "outputs": [],
   "source": [
    "plot <- scater::plotColData(processed_sfe, x = \"nCounts\", y = \"nGenes\", colour_by = \"in_tissue\") + custom_theme()\n",
    "show_plot(plot)"
   ]
  },
  {
   "cell_type": "markdown",
   "id": "ad6003171694e885",
   "metadata": {
    "collapsed": false
   },
   "source": [
    "![mean variance comparison](images/counts_vs_genes.png)"
   ]
  },
  {
   "cell_type": "markdown",
   "id": "94e7c5e7-a104-48b5-8fe5-49c821d75ba4",
   "metadata": {},
   "source": [
    "In the above plot, we're showing that there is a relationship between the counts and genes between the in tissue and out of tissue sections.\n",
    "\n",
    "Also, in many cases, there is a correlation between the mean and variance of gene expression data - where as the number of genes increase so too does the variance. Genes above the diagonal line have higher variance than expected given their mean expression, indicating more variability or heterogeneity in their expression counts. Genes below the diagonal line have lower variance than expected, suggesting more consistent or homogeneous expression levels across the dataset.\n",
    "\n",
    "Biological interpretation:\n",
    "* Genes with high mean expression and low variance may indicate housekeeping genes,\n",
    "* Genes with high variance relative to mean expression maybe represent cell-type gene expression, a condition or response to stimuli, and\n",
    "\n",
    "It's also noteworthy that it may also indicate techical factors such as noise, sequencing depth or batch effect."
   ]
  },
  {
   "cell_type": "code",
   "execution_count": null,
   "id": "fd05c9df-93d5-4e4a-a340-5fe676f1a69c",
   "metadata": {
    "vscode": {
     "languageId": "r"
    }
   },
   "outputs": [],
   "source": [
    "plot <- scater::plotRowData(sfe_tissue, x = \"means\", y = \"vars\", bins = 50) +\n",
    "    ggplot2::geom_abline(slope = 1, intercept = 0, color = \"red\") +\n",
    "    ggplot2::scale_x_log10() + ggplot2::scale_y_log10() +\n",
    "    ggplot2::scale_fill_distiller(palette = \"Blues\", direction = 1) +\n",
    "    ggplot2::annotation_logticks() +\n",
    "    ggplot2::coord_equal() + custom_theme()\n",
    "show_plot(plot)"
   ]
  },
  {
   "cell_type": "markdown",
   "id": "a0654e940d7e46a5",
   "metadata": {
    "collapsed": false
   },
   "source": [
    "![mean variance comparison](images/means_variance.png)"
   ]
  },
  {
   "cell_type": "markdown",
   "id": "cf2231a8-c61a-4ea6-8b0d-622a1e739fb3",
   "metadata": {},
   "source": [
    "# Comparing the Effects of In-Tissue Analysis\n",
    "\n",
    "We can also compare the effect of in tissue and out tissue on the variance captured by principal component analysis. Similarly, the top variable genes and clustering should also change when considering all of the sample versus on in tissue spots.\n",
    "\n",
    "Would you expect it to capture more or less variance if we only consider in tissue gene expression? Would you expect changes to the most variable genes detected? What changes are there to the clustering results?"
   ]
  },
  {
   "cell_type": "code",
   "execution_count": null,
   "id": "cc01ff29-de4d-4da9-bd7d-04a3cd1324ad",
   "metadata": {
    "vscode": {
     "languageId": "r"
    }
   },
   "outputs": [],
   "source": [
    "p1 <- Voyager::ElbowPlot(processed_sfe, ndims = 30) + custom_theme()\n",
    "p2 <- Voyager::ElbowPlot(sfe_tissue, ndims = 30) + custom_theme()\n",
    "plot <- (p1 + p2) + patchwork::plot_layout(ncol = 2, guides = \"collect\")\n",
    "show_plot(plot)"
   ]
  },
  {
   "cell_type": "markdown",
   "id": "4648d0e208f9dfab",
   "metadata": {
    "collapsed": false
   },
   "source": [
    "![comparison of in tissue and out tissue elbow plots](images/elbow_plot_comparison.png)"
   ]
  },
  {
   "cell_type": "markdown",
   "id": "e9c17854-8883-466c-94d0-e4f5cc440f58",
   "metadata": {},
   "source": [
    "The change to the principal components is small but noticeable - with less variable data to consider slightly more data is covered in small components."
   ]
  },
  {
   "cell_type": "code",
   "execution_count": null,
   "id": "410cc236-72c2-4bc7-bd01-960be2034ba7",
   "metadata": {
    "vscode": {
     "languageId": "r"
    }
   },
   "outputs": [],
   "source": [
    "p1 <- Voyager::plotDimLoadings(processed_sfe, dims = 1:3, swap_rownames = \"symbol\", ncol = 3) + custom_theme()\n",
    "p2 <- Voyager::plotDimLoadings(sfe_tissue, dims = 1:3, swap_rownames = \"symbol\", ncol = 3) + custom_theme()\n",
    "plot <- (p1 + p2) + patchwork::plot_layout(ncol = 1, guides = \"collect\")\n",
    "show_plot(plot)"
   ]
  },
  {
   "cell_type": "markdown",
   "id": "73d7ca8145434ba1",
   "metadata": {
    "collapsed": false
   },
   "source": [
    "![comparison of in tissue and out tissue variable genes](images/genes_comparison.png)"
   ]
  },
  {
   "cell_type": "code",
   "execution_count": null,
   "id": "e5f291ba-7421-45f0-871b-1fb180646f15",
   "metadata": {
    "vscode": {
     "languageId": "r"
    }
   },
   "outputs": [],
   "source": [
    "p1 <- scater::plotUMAP(processed_sfe, colour_by = \"cluster\") + custom_theme()\n",
    "p2 <- scater::plotUMAP(sfe_tissue, colour_by = \"cluster\") + custom_theme()\n",
    "plot <- (p1 + p2) + patchwork::plot_layout(ncol = 1, guides = \"collect\")\n",
    "show_plot(plot)"
   ]
  },
  {
   "cell_type": "markdown",
   "id": "569be1bab7a1a165",
   "metadata": {
    "collapsed": false
   },
   "source": [
    "![comparison of in tissue and out tissue umaps](images/umap_comparison.png)"
   ]
  },
  {
   "cell_type": "markdown",
   "id": "24f19210-bce5-46e6-8647-8c3f6e1fe377",
   "metadata": {},
   "source": [
    "The change to the UMAP clusters is small but noticeable. The clusters are more distinct and there are fewer detected."
   ]
  },
  {
   "cell_type": "markdown",
   "id": "c3caa516-a9d6-4ac4-97d8-8e83ffe09d79",
   "metadata": {},
   "source": [
    "# Other Plots Available\n",
    "\n",
    "The following demonstrates some of the other comparisons you can make with the libraries used by Voyager including scater and others. This includes comparing the variance captured by the [PCA plots and performing a pairwise comparison against each component](https://bioconductor.org/packages/release/bioc/vignettes/scater/inst/doc/overview.html#43_Visualizing_reduced_dimensions). The boxes on the diagonal show the density of each component (the distribution of cells along that particular principal component - the peaks presenting where most of the cells contribute)."
   ]
  },
  {
   "cell_type": "code",
   "execution_count": null,
   "id": "cd1104a6-b27a-43fe-924a-2e9cbadeb62a",
   "metadata": {
    "vscode": {
     "languageId": "r"
    }
   },
   "outputs": [],
   "source": [
    "p1 <- scater::plotPCA(sfe_tissue, ncomponents = 5, colour_by = \"cluster\") + custom_theme()\n",
    "plot <- (p1) + patchwork::plot_layout(ncol = 1, guides = \"collect\")\n",
    "show_plot(plot)"
   ]
  },
  {
   "cell_type": "markdown",
   "id": "97097a90117ed704",
   "metadata": {
    "collapsed": false
   },
   "source": [
    "![comparison of in tissue and out tissue umaps](images/pca_results.png)"
   ]
  },
  {
   "cell_type": "markdown",
   "id": "f896738b-f78a-48d2-90d2-fd7f95ced6c8",
   "metadata": {},
   "source": [
    "We can also spatially plot the clusters and see the various spots captured by the principal components."
   ]
  },
  {
   "cell_type": "code",
   "execution_count": null,
   "id": "14c268db-9d52-4810-acb7-6591cda7edc4",
   "metadata": {
    "vscode": {
     "languageId": "r"
    }
   },
   "outputs": [],
   "source": [
    "p1 <- Voyager::plotSpatialFeature(sfe_tissue, features = \"cluster\", colGeometryName = \"spotPoly\", image_id = \"lowres\") + custom_theme()\n",
    "p2 <- Voyager::spatialReducedDim(sfe_tissue, \"PCA\", ncomponents = 4, \n",
    "                  colGeometryName = \"spotPoly\", divergent = TRUE, \n",
    "                  diverge_center = 0, ncol = 2, \n",
    "                  image_id = \"lowres\", maxcell = 5e4) + custom_theme()\n",
    "plot <- (p1 + p2) + patchwork::plot_layout(ncol = 1, guides = \"collect\") & custom_theme()\n",
    "show_plot(plot)"
   ]
  },
  {
   "cell_type": "markdown",
   "id": "5c5846670f9824f0",
   "metadata": {
    "collapsed": false
   },
   "source": [
    "![spatial clustering and view of PCAs](images/cluster_pca.png)"
   ]
  },
  {
   "cell_type": "code",
   "execution_count": null,
   "id": "fbe87887-3897-47ed-80d4-6ab89f9db57d",
   "metadata": {
    "vscode": {
     "languageId": "r"
    }
   },
   "outputs": [],
   "source": [
    "plots <- scater::plotExpression(sfe_tissue, rowData(sfe_tissue)[genes_use, \"symbol\"], x = \"cluster\",\n",
    "               colour_by = \"cluster\", swap_rownames = \"symbol\")\n",
    "plots <- wrap_plots(plots) & custom_theme()\n",
    "show_plot(plots)"
   ]
  },
  {
   "cell_type": "markdown",
   "id": "aac0563c43ff06d3",
   "metadata": {
    "collapsed": false
   },
   "source": [
    "![top variable genes and cluster distribution](images/violin_plot_clusters.png)"
   ]
  },
  {
   "cell_type": "markdown",
   "id": "232352ce-c53a-4dee-8513-b328c51d36b7",
   "metadata": {},
   "source": [
    "# Spatial Statistics\n",
    "\n",
    "The intuition behind spatial statistics is that nearer things are more closely related than more distant things. For example, the weather in Brisbane and the Sunshine Coast are more similar than the weather in Melbourne. Spatial autocorrelation has been used for decades in [geographical information systems (GIS)](https://dces.wisc.edu/wp-content/uploads/sites/128/2013/08/W5_Getis2008.pdf) applied to areas such analysis of air pollution, water quality, or soil properties. A good example of using geographical, [spatial exploratory and confirmatory analysis](https://en.wikipedia.org/wiki/Exploratory_data_analysis) to improve cancer screening can be found in, \"[Spatial evaluation of prevalence, pattern and predictors of cervical cancer screening in India](https://www.sciencedirect.com/science/article/pii/S003335061930294X#sec2.2)\".\n",
    "\n",
    "Univariate, bivariate and multivariate spatial correlation measures the degree of spatial dependence or clustering for a single variable, two variables or all variables across different locations. It quantifies whether values of a variable at nearby locations are more similar or dissimilar than expected by chance.\n",
    "\n",
    "For example, Moran’s I is similar to the Pearson correlation between the value at each location and the average value at its neighbors. Like Pearson correlation, Moran’s I is generally bound between -1 and 1, where positive value indicates positive spatial autocorrelation and negative value indicates negative spatial autocorrelation.\n",
    "\n",
    "To determine if the spatial autocorrelation is statistically significant, the [moran.test](https://r-spatial.github.io/spdep/reference/moran.test.html) function in [spdep](https://github.com/r-spatial/spdep) is used. It provides a p-value, but the p-value may not be accurate if the data is not normally distributed. Gene expression data is generally not normally distributed and data normalization doesn’t always work well. Instead, permutation testing is used to generate the significance of Moran’s I and Geary’s C.\n",
    "\n",
    "Types of spatial correlation:\n",
    "* Univariate\n",
    "  * Global\n",
    "      * Moran's I\n",
    "      * Geary's C\n",
    "      * Carrelogram\n",
    "      * Varigram\n",
    "  * Local\n",
    "      * Moran Scatter Plot\n",
    "      * Local Moran's I\n",
    "      * Local spatial heteroscedasticity\n",
    "      * Getis-Ord Gi\n",
    "* Bivariate\n",
    "    *  Lee's L\n",
    "    *  Cross Variogram\n",
    "* Multivariate\n",
    "    * MULTISPATI PCA\n",
    "    * Multivariate local Geary's C"
   ]
  },
  {
   "cell_type": "markdown",
   "id": "4439be52-153e-41be-ac4b-b078a87431ed",
   "metadata": {},
   "source": [
    "A list of spatial statistic functions available for use:"
   ]
  },
  {
   "cell_type": "code",
   "execution_count": null,
   "id": "f92231d2-ec00-4d32-ade1-da6ed94431e2",
   "metadata": {
    "vscode": {
     "languageId": "r"
    }
   },
   "outputs": [],
   "source": [
    "Voyager::listSFEMethods(variate = \"uni\", scope = \"global\")"
   ]
  },
  {
   "cell_type": "markdown",
   "id": "140ff34a-fe97-4a77-8568-a6008cbd0d45",
   "metadata": {},
   "source": [
    "The \"moran.test\" and \"geary.test\" refer to autocorrelation functions that provide a p-value. The test statistic, known as the standard deviate of Moran's I, is assumed to follow a standard normal distribution (z-distribution) when the null hypothesis is true. However, the p-value may not be accurate if the data is not normally distributed, which is often the case with gene expression data. \n",
    "\n",
    "The \"moran.mc\" and \"geary.mc\" perform permutation testing using a Monte Carlo simulation to calculate the p-value. Permutation testing is a robust approach for assessing the significance of spatial correlation, especially when the data is not normally distributed. It provides a reliable way to determine if the observed spatial patterns are likely to have arisen by chance or if they reflect meaningful spatial relationships.\n",
    "\n",
    "Testing is performed by randomly shuffling the values of the variable across the locations multiple times (e.g. 999 times) and recalculating Moran's I for each permutation. This creates a reference distribution of Moran's I values under the null hypothesis of no spatial correlation. The observed Moran's I value is then compared to this reference distribution. If the observed value falls in the extreme tails of the distribution (e.g., top 5% or bottom 5%), it suggests that the spatial correlation is statistically significant and unlikely to have occurred by chance."
   ]
  },
  {
   "cell_type": "markdown",
   "id": "6cd6136e-b715-4518-a1c8-5490ef6c3e64",
   "metadata": {},
   "source": [
    "## Generating a Spatial Neighbourhood Graph\n",
    "\n",
    "A spatial neighbourhood graph is required to be generated in order to use spatial correlation. For Visium, where the spots \n",
    "are in a hexagonal grid, the spatial neighborhood graph is straightforward (we're using [tri2.nb](https://r-spatial.github.io/spdep/reference/tri2nb.html)).\n",
    "\n",
    "We'll compare generating a graph for the entire sample (with spots removed), the tissue of interest and the tissue of interest with spots removed."
   ]
  },
  {
   "cell_type": "code",
   "execution_count": null,
   "id": "1eedb9db-e676-49f6-8192-1cc27eac6104",
   "metadata": {
    "vscode": {
     "languageId": "r"
    }
   },
   "outputs": [],
   "source": [
    "source(\"./stats.R\")"
   ]
  },
  {
   "cell_type": "markdown",
   "id": "75a705ce-00fb-413e-8562-0d59979c9077",
   "metadata": {},
   "source": [
    "## Visualising the Neighbourhood Graphs\n",
    "\n",
    "The following shows the new neighbourhood graph generated from the original Visium spots, the tissue based spots and the Visium spots with QC applied to remove some of the spots."
   ]
  },
  {
   "cell_type": "code",
   "execution_count": null,
   "id": "c5c1eb46-2390-4f49-918c-7de67162ccb0",
   "metadata": {
    "vscode": {
     "languageId": "r"
    }
   },
   "outputs": [],
   "source": [
    "p1 <- Voyager::plotColGraph(processed_sfe, \"graph1\") + custom_theme()\n",
    "p2 <- Voyager::plotColGraph(sfe_tissue, \"graph1\") + custom_theme()\n",
    "p3 <- Voyager::plotColGraph(sfe_tissue, \"visium\") + custom_theme()\n",
    "plot <- (p1 + p2 + p3) + patchwork::plot_layout(ncol = 1, guides = \"collect\") & custom_theme()\n",
    "show_plot(plot, width = 1600, height = 800)"
   ]
  },
  {
   "cell_type": "markdown",
   "id": "97a20227c92645e2",
   "metadata": {
    "collapsed": false
   },
   "source": [
    "![top variable genes and cluster distribution](images/neighbourhood_meshes.png)"
   ]
  },
  {
   "cell_type": "markdown",
   "id": "c19bd946-c42d-4fed-9418-31c97bbe37f5",
   "metadata": {},
   "source": [
    "## Global Spatial Correlation\n",
    "\n",
    "Global spatial correlation looks at the entire dataset to assess whether it is clustered, dispersed, or randomly assigned."
   ]
  },
  {
   "cell_type": "markdown",
   "id": "0ef14c26-d783-422c-9bff-5a717e36ec83",
   "metadata": {},
   "source": [
    "### Using Moran's I\n",
    "\n",
    "Moran’s I ([Moran 1950](https://doi.org/10.2307/2332162)) is one of the most commonly used statistic of spatial autocorrelation, defined as:\n",
    "\n",
    "$I = \\frac{n}{\\sum_{i=1}^n \\sum_{j=1}^n w_{ij}} \\frac{\\sum_{i=1}^n\n",
    "\\sum_{j=1}^n w_{ij} (x_i - \\bar{x})(x_j - \\bar{x})}{\\sum_{i=1}^n (x_i -\n",
    "\\bar{x})^2},$\n",
    "\n",
    "Where,\n",
    "\n",
    "* n is the number of observations (spots/locations),\n",
    "* Xi is the value at a location,\n",
    "* Xj is the value at a subsequent location,\n",
    "* Wij is a weight indexing location of i relative to j (an edge as defined by a weighted neighbourhood graph).\n",
    "\n",
    "<img src=\"images/global_spatial_autocorrelation.png\">\n",
    "\n",
    "*From: [Chapter 4 Spatial Regression in R](http://www.geo.hunter.cuny.edu/~ssun/R-Spatial/spregression.html)*\n",
    "\n",
    "Moran's I values indicate the following:\n",
    "* if positive indicates observations with similar values cluster together,\n",
    "* if near to or 0 indicates observations are randomly distributed, or\n",
    "* if negative indicates observations are disperse (neighbours share dissimilar values)."
   ]
  },
  {
   "cell_type": "code",
   "execution_count": null,
   "id": "99a57a7c-800e-4222-b885-21aea8c72c69",
   "metadata": {
    "is_executing": true,
    "vscode": {
     "languageId": "r"
    }
   },
   "outputs": [],
   "source": [
    "calculateMoransI(t(colData(sfe_tissue)[,c(\"nCounts\", \"nGenes\")]), listw = colGraph(sfe_tissue, \"graph1\"))"
   ]
  },
  {
   "cell_type": "markdown",
   "id": "d659f107-90c1-4b52-9f44-fd6a34c6211c",
   "metadata": {},
   "source": [
    "### What do these results mean? \n",
    "\n",
    "As mentioned above, a positive \"moran\" value means that they are spatially correlated and a negative value indicates that they are not (disperse). And a value close to zero indicates the values are random. \n",
    "\n",
    "<img src=\"images/kurtosis.png\">\n",
    "\n",
    "*Plot generates from kurtosis.py*\n",
    "\n",
    "The \"K\" value or [kurtosis](https://en.wikipedia.org/wiki/Kurtosis) is a measure of the \"tailedness\" of a distribution. Higher values indicates a distribution with a higher chance of producing outliers, conversely, lower values have a smaller chance of producing outliers and a value of 3 is the typical value for normally distributed data.\n",
    "\n",
    "In this case, both \"nCounts\" and \"nGenes\" have high positive Moran's I values (0.761749 and 0.793523, respectively), suggesting strong positive spatial autocorrelation. The kurtosis values for \"nCounts\" and \"nGenes\" are 1.84931 and 1.96607, respectively, which are less than 3, suggesting that both variables have a distribution with a smaller chance of producing outliers compared to a normal distribution.\n",
    "\n",
    "### Histogram of Values"
   ]
  },
  {
   "cell_type": "code",
   "execution_count": null,
   "id": "ab8493dd-d485-4edd-a58a-01e0682e4c73",
   "metadata": {
    "vscode": {
     "languageId": "r"
    }
   },
   "outputs": [],
   "source": [
    "p1 <- Voyager::plotRowDataHistogram(sfe_tissue, \"moran_sample01\") + custom_theme()\n",
    "plots <- wrap_plots(p1) + patchwork::plot_layout(ncol = 1, guides = \"collect\")\n",
    "show_plot(plots)"
   ]
  },
  {
   "cell_type": "markdown",
   "id": "fe0cc46fe2c8a865",
   "metadata": {
    "collapsed": false
   },
   "source": [
    "![histogram of moran](images/moran_i_histogram.png)"
   ]
  },
  {
   "cell_type": "markdown",
   "id": "e889d849-bf6f-4e84-8d57-406bcf0ac32e",
   "metadata": {},
   "source": [
    "As an example, we'll calculate the top 2000 highly variable genes and see if they are spatially correlated.\n",
    "\n",
    "```\n",
    "dec <- scran::modelGeneVar(sfe_tissue)\n",
    "hvgs <- scran::getTopHVGs(dec, n = 2000)\n",
    "```"
   ]
  },
  {
   "cell_type": "code",
   "execution_count": null,
   "id": "67fab72a-06cd-4712-bda0-ee4b30c2ed9f",
   "metadata": {
    "vscode": {
     "languageId": "r"
    }
   },
   "outputs": [],
   "source": [
    "df <- rowData(sfe_tissue)[hvgs,]\n",
    "ord <- order(df$moran_sample01, decreasing = TRUE)\n",
    "df[ord,c(\"symbol\", \"moran_sample01\",  \"K_sample01\")]"
   ]
  },
  {
   "cell_type": "code",
   "execution_count": null,
   "id": "a786008c-21b4-4432-a1ad-758cef55487d",
   "metadata": {
    "vscode": {
     "languageId": "r"
    }
   },
   "outputs": [],
   "source": [
    "p1 <- Voyager::plotSpatialFeature(sfe_tissue, pos_moran, \n",
    "                                  colGeometryName = \"spotPoly\", image = \"lowres\", maxcell = 5e4, \n",
    "                                  swap_rownames = \"symbol\", ncol = 2)\n",
    "plots <- wrap_plots(p1) + patchwork::plot_layout(ncol = 1, guides = \"collect\") & custom_theme()\n",
    "show_plot(plots)"
   ]
  },
  {
   "cell_type": "markdown",
   "id": "ecbf04968ba40361",
   "metadata": {
    "collapsed": false
   },
   "source": [
    "![histogram of moran](images/moran_i_top_genes.png)"
   ]
  },
  {
   "cell_type": "code",
   "execution_count": null,
   "id": "f76ca854-e8ee-4299-9714-f5e7cb6b563b",
   "metadata": {
    "vscode": {
     "languageId": "r"
    }
   },
   "outputs": [],
   "source": [
    "p1 <- Voyager::plotSpatialFeature(sfe_tissue, neg_moran, \n",
    "                                  colGeometryName = \"spotPoly\", image = \"lowres\", maxcell = 5e4, \n",
    "                                  swap_rownames = \"symbol\", ncol = 2)\n",
    "plots <- wrap_plots(p1) + patchwork::plot_layout(ncol = 1, guides = \"collect\") & custom_theme()\n",
    "show_plot(plots)"
   ]
  },
  {
   "cell_type": "markdown",
   "id": "695201e013d4945b",
   "metadata": {
    "collapsed": false
   },
   "source": [
    "![histogram of moran](images/moran_i_bottom_genes.png)"
   ]
  },
  {
   "cell_type": "markdown",
   "id": "373f9326-b33e-4095-9f44-9046232b251b",
   "metadata": {},
   "source": [
    "## Local Spatial Correlation\n",
    "\n",
    "Local spatial correlation looks at the neighbours of values. Instead of generating a single statistic characterising the dataset, local methods generate a value for each location. You can reuse methods such a Moran's I and Geary's C to process data locally - these will show clusters of similar values (low or high) as well as outliers. Getis-Ord Gi* is another method that generates clusters of cold (low) and hot (high) values and can be easier to interpret than other methods. "
   ]
  },
  {
   "cell_type": "code",
   "execution_count": null,
   "id": "0be29325-8b3f-4584-8532-6eed0a3db047",
   "metadata": {
    "vscode": {
     "languageId": "r"
    }
   },
   "outputs": [],
   "source": [
    "plots <- Voyager::plotLocalResult(sfe_tissue, \"localG_perm\", features = \"Pcp4\", \n",
    "                colGeometryName = \"spotPoly\", divergent = TRUE,\n",
    "                diverge_center = 0, image_id = \"lowres\", swap_rownames = \"symbol\", \n",
    "                color = \"black\", linewidth = 0.1) + custom_theme()\n",
    "show_plot(plots)"
   ]
  },
  {
   "cell_type": "markdown",
   "id": "f2ff359737b35723",
   "metadata": {
    "collapsed": false
   },
   "source": [
    "![histogram of moran](images/localG_perm_pcp4.png)"
   ]
  },
  {
   "cell_type": "code",
   "execution_count": null,
   "id": "e077aa0e-62ff-4089-be21-acc4a2b5bcf0",
   "metadata": {
    "vscode": {
     "languageId": "r"
    }
   },
   "outputs": [],
   "source": [
    "plots <- Voyager::plotLocalResult(sfe_tissue, \"localG_perm\", features = \"Pcp4\", \n",
    "                attribute = \"-log10p_adj Sim\",\n",
    "                colGeometryName = \"spotPoly\", divergent = TRUE,\n",
    "                diverge_center = -log10(0.05), swap_rownames = \"symbol\",\n",
    "                image_id = \"lowres\") + custom_theme()\n",
    "show_plot(plots)"
   ]
  },
  {
   "cell_type": "markdown",
   "id": "2f4323eeaf315c3a",
   "metadata": {
    "collapsed": false
   },
   "source": [
    "![histogram of moran](images/localG_perm_log_pcp4.png)"
   ]
  },
  {
   "cell_type": "markdown",
   "id": "3f1f677661a97276",
   "metadata": {
    "collapsed": false
   },
   "source": [
    "<img style=\"float: left; margin-right:20px; margin-bottom:0px;\" src=\"images/code_icon.png\">\n",
    "\n",
    "In order to perform your own spatial analysis of interesting genes, pick another gene from the top 6 or bottom 6 and run an analysis. Some suggestions include \"Apoe\" or \"Tcf12\". The code to run the above:\n",
    "```R\n",
    "sfe_tissue <- Voyager::runUnivariate(sfe_tissue, type = \"localG_perm\", features = \"Pcp4\", colGraphName = \"visium_B\",\n",
    "                                     swap_rownames = \"symbol\")\n",
    "plots <- Voyager::plotLocalResult(sfe_tissue, \"localG_perm\", features = \"Pcp4\", \n",
    "                colGeometryName = \"spotPoly\", divergent = TRUE,\n",
    "                diverge_center = 0, image_id = \"lowres\", swap_rownames = \"symbol\", \n",
    "                color = \"black\", linewidth = 0.1) + custom_theme()\n",
    "show_plot(plots)\n",
    "```\n",
    "\n",
    "Create your own plot by entering the code in the next cell."
   ]
  },
  {
   "cell_type": "code",
   "execution_count": null,
   "id": "84661f985d86a297",
   "metadata": {
    "collapsed": false,
    "vscode": {
     "languageId": "r"
    }
   },
   "outputs": [],
   "source": [
    "# Run the code here."
   ]
  },
  {
   "cell_type": "markdown",
   "id": "a7af7546-1f71-4b96-a9ea-c8f61c246ac8",
   "metadata": {},
   "source": [
    "## MULTISPATI PCA (Multivariate Spatial Correlation)\n",
    "\n",
    "Due to the large number of genes quantified in single cell and spatial transcriptomics, dimension reduction is part of the standard workflow to analyze such data, to visualize, to help interpreting the data, to distill relevant information and reduce noise, to facilitate downstream analyses such as clustering and pseudotime, to project different samples into a shared latent space for data integration, and so on.\n",
    "\n",
    "Spatially informed dimension reduction is actually not new, and dates back to at least 1985, with Wartenberg’s crossover of Moran’s I and PCA (Wartenberg 1985), which was generalized and further developed as MULTISPATI PCA (Dray, Saı̈d, and Débias 2008).\n",
    "\n",
    "In short, while PCA tries to maximize the variance explained by each PC, MULTISPATI maximizes the product of Moran’s I and variance explained. Also, while all the eigenvalues from PCA are non-negative, because the covariance matrix is positive semidefinite, MULTISPATI can give negative eigenvalues, which represent negative spatial autocorrelation, which can be present and interesting but is not as common as positive spatial autocorrelation and is often masked by the latter (Griffith 2019)."
   ]
  },
  {
   "cell_type": "code",
   "execution_count": null,
   "id": "46741e61-769c-4a77-aa40-4a0496e1d1a5",
   "metadata": {
    "vscode": {
     "languageId": "r"
    }
   },
   "outputs": [],
   "source": [
    "plots <- Voyager::ElbowPlot(sfe_tissue, nfnega = 20, reduction = \"multispati\") + custom_theme()\n",
    "show_plot(plots)"
   ]
  },
  {
   "cell_type": "markdown",
   "id": "330313a0-6725-4cb1-b517-f7e15a168a96",
   "metadata": {},
   "source": [
    "![elbow plot of multispati](images/multispati_elbow_plot.png)"
   ]
  },
  {
   "cell_type": "markdown",
   "id": "3b2f4b10-c1ad-4446-ad97-1d4b888aeb59",
   "metadata": {},
   "source": [
    "This is show the top variable genes using the MULTISPATI PCA."
   ]
  },
  {
   "cell_type": "code",
   "execution_count": null,
   "id": "4e3e3027-fa39-4ce8-97e9-8963e2bb2cfd",
   "metadata": {
    "vscode": {
     "languageId": "r"
    }
   },
   "outputs": [],
   "source": [
    "p1 <- Voyager::plotDimLoadings(sfe_tissue, dims = c(1:4), swap_rownames = \"symbol\", reduction = \"multispati\")\n",
    "plots <- wrap_plots(p1) & custom_theme()\n",
    "show_plot(plots)"
   ]
  },
  {
   "cell_type": "markdown",
   "id": "4cfe21b9-cf9e-4cbe-8e3e-37b024d2fd1d",
   "metadata": {},
   "source": [
    "![elbow plot of multispati](images/multispati_hvg.png)"
   ]
  },
  {
   "cell_type": "code",
   "execution_count": null,
   "id": "2e18d6d9-4197-48ec-aa7b-ee5322b8848c",
   "metadata": {
    "is_executing": true,
    "vscode": {
     "languageId": "r"
    }
   },
   "outputs": [],
   "source": [
    "p1 <- Voyager::spatialReducedDim(sfe_tissue, \"multispati\", ncomponents = 5, \n",
    "                  colGeometryName = \"spotPoly\", divergent = TRUE, \n",
    "                  diverge_center = 0, ncol = 2, \n",
    "                  image_id = \"lowres\", maxcell = 5e4)\n",
    "plots <- wrap_plots(p1) & custom_theme()\n",
    "show_plot(plots)"
   ]
  },
  {
   "cell_type": "markdown",
   "id": "e5abe370-d87a-49fd-96d9-015822aa689f",
   "metadata": {},
   "source": [
    "## Comparing Spatial and Non-Spatial PCA\n",
    "\n",
    "In the context of spatial transcriptomics, clusters are groups of spots that share similar characteristics within \n",
    "each group. \n",
    "\n",
    "Non-spatial clustering methods, such as principal component analysis (PCA), identify genes that are effective in \n",
    "distinguishing different cell types based solely on their expression patterns without considering the spatial \n",
    "arrangement of the cells. However, gene expression may exhibit strong spatial structure, meaning they are not \n",
    "randomly distributed across the tissue but rather form distinct spatial patterns.\n",
    "\n",
    "MULTISPATI's components identify genes that define spatial regions in addition to differentiating between cell types. \n",
    "These genes not only distinguish cell types but also capture the spatial organization of cells within the tissue. \n",
    "The genes associated with each MULTISPATI component can provide valuable insights into the spatial patterns \n",
    "and the underlying biological processes. It's defined as:\n",
    "\n",
    "$H = \\frac 1 {2n} X(W^t+W)X^t$\n",
    "\n",
    "Where,\n",
    "* 𝑋 is a gene count matrix whose columns are cells or Visium spots and whose rows are genes, with 𝑛 columns, and\n",
    "* 𝑊 is the row normalized 𝑛×𝑛 adjacency matrix of the spatial neighborhood graph of the cells or Visium spots, which does not have to be symmetric.\n",
    " \n",
    "Both analysis methods provide different perspective and uncovers different aspects of the data. Non-spatial \n",
    "clustering focuses on identifying cell types based on gene expression, while spatial clustering incorporates \n",
    "both gene expression and spatial information to identify spatially coherent regions and the genes that define \n",
    "them.\n",
    "\n",
    "We will now performing clustering on both the original PCA and the new MULTISPATI generate components."
   ]
  },
  {
   "cell_type": "code",
   "execution_count": null,
   "id": "2ff8c75e-c4c3-4f44-b099-265d6098ae18",
   "metadata": {
    "vscode": {
     "languageId": "r"
    }
   },
   "outputs": [],
   "source": [
    "p1 <- Voyager::plotSpatialFeature(sfe_tissue, c(\"clusts_nonspatial\", \"clusts_multispati\"), colGeometryName = \"spotPoly\", \n",
    "                            scattermore = TRUE, pointsize = 7) & guides(colour = guide_legend(override.aes = list(size=2), ncol = 2))\n",
    "plots <- wrap_plots(p1) & custom_theme()\n",
    "show_plot(plots)"
   ]
  },
  {
   "cell_type": "markdown",
   "id": "1eb8b6cd575904e9",
   "metadata": {
    "collapsed": false
   },
   "source": [
    "![MULTISPATI_plot](images/multispati.png)"
   ]
  },
  {
   "cell_type": "markdown",
   "id": "e3940e7c-543e-47c8-8e2e-60cc36f6d15a",
   "metadata": {},
   "source": [
    "# More Information\n",
    "\n",
    "The homepage for the Voyager R project is https://pachterlab.github.io/voyager/index.html\n",
    "\n",
    "This tutorial was based on the following:\n",
    "https://pachterlab.github.io/voyager/articles/visium_10x.html\n",
    "https://pachterlab.github.io/voyager/articles/vig1_visium_basic.html\n",
    "https://pachterlab.github.io/voyager/articles/vig2_visium.html\n",
    "https://pachterlab.github.io/voyager/articles/visium_10x_spatial.html\n",
    "https://pachterlab.github.io/voyager/articles/multispati.html"
   ]
  }
 ],
 "metadata": {
  "kernelspec": {
   "display_name": "R",
   "language": "R",
   "name": "ir"
  },
  "language_info": {
   "codemirror_mode": "r",
   "file_extension": ".r",
   "mimetype": "text/x-r-source",
   "name": "R",
   "pygments_lexer": "r",
   "version": "4.3.3"
  }
 },
 "nbformat": 4,
 "nbformat_minor": 5
}
